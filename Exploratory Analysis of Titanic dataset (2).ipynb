{
 "cells": [
  {
   "cell_type": "markdown",
   "id": "c8d85841",
   "metadata": {},
   "source": [
    "# Author Rahul Singh\n",
    "Email ID - rs0089286@gmail.com\n",
    "\n",
    "### @SKILLENABLE"
   ]
  },
  {
   "cell_type": "markdown",
   "id": "b4987f5a",
   "metadata": {},
   "source": [
    "### In this case study, we will explore the Titanic dataset, which contains information about passengers who were on board the Titanic ship during its infamous maiden voyage in 1912. The goal of this case study is to answer the following questions:\n",
    "\n",
    "* Q.1- How many rows and columns are there in the dataset?\n",
    "* Q.2- In which class category more number of women’s died in terms of percentage of from that class?\n",
    "* Q.3- Was the oldest passenger a male or a female?\n",
    "* Q.4- What is the name of the oldest survived female passenger?\n",
    "* Q.5- What are the details of the youngest passenger who did not survive?\n",
    "* Q.6- What percentage of passengers overall survived the disaster?\n",
    "* Q.7- Which sex of passengers were more on board?\n",
    "* Q.8- Which passenger had the least average age by ticket class?\n",
    "* Q.9- Which class had the highest fare?\n",
    "* Q.10- Which class had the highest number of passengers?\n",
    "#### We will use the Pandas library and Numpy in Python to load, manipulate, and analyze the Titanic dataset. We will also use data visualization tools to help us better understand the data and answer the questions posed above. Let's get started!"
   ]
  },
  {
   "cell_type": "code",
   "execution_count": 1,
   "id": "d41592b5",
   "metadata": {},
   "outputs": [],
   "source": [
    "import numpy as np\n",
    "import pandas as pd\n",
    "\n",
    "# Visualization\n",
    "import matplotlib as mpl\n",
    "import matplotlib.pyplot as plt\n",
    "import matplotlib.pylab as pylab\n",
    "import seaborn as sns\n",
    "\n",
    "# Configure Visualizations\n",
    "%matplotlib inline"
   ]
  },
  {
   "cell_type": "code",
   "execution_count": 2,
   "id": "0e7d3206",
   "metadata": {},
   "outputs": [
    {
     "data": {
      "text/html": [
       "<div>\n",
       "<style scoped>\n",
       "    .dataframe tbody tr th:only-of-type {\n",
       "        vertical-align: middle;\n",
       "    }\n",
       "\n",
       "    .dataframe tbody tr th {\n",
       "        vertical-align: top;\n",
       "    }\n",
       "\n",
       "    .dataframe thead th {\n",
       "        text-align: right;\n",
       "    }\n",
       "</style>\n",
       "<table border=\"1\" class=\"dataframe\">\n",
       "  <thead>\n",
       "    <tr style=\"text-align: right;\">\n",
       "      <th></th>\n",
       "      <th>PassengerId</th>\n",
       "      <th>Survived</th>\n",
       "      <th>Pclass</th>\n",
       "      <th>Name</th>\n",
       "      <th>Sex</th>\n",
       "      <th>Age</th>\n",
       "      <th>SibSp</th>\n",
       "      <th>Parch</th>\n",
       "      <th>Ticket</th>\n",
       "      <th>Fare</th>\n",
       "      <th>Cabin</th>\n",
       "      <th>Embarked</th>\n",
       "    </tr>\n",
       "  </thead>\n",
       "  <tbody>\n",
       "    <tr>\n",
       "      <th>0</th>\n",
       "      <td>1</td>\n",
       "      <td>0</td>\n",
       "      <td>3</td>\n",
       "      <td>Braund, Mr. Owen Harris</td>\n",
       "      <td>male</td>\n",
       "      <td>22.0</td>\n",
       "      <td>1</td>\n",
       "      <td>0</td>\n",
       "      <td>A/5 21171</td>\n",
       "      <td>7.2500</td>\n",
       "      <td>NaN</td>\n",
       "      <td>S</td>\n",
       "    </tr>\n",
       "    <tr>\n",
       "      <th>1</th>\n",
       "      <td>2</td>\n",
       "      <td>1</td>\n",
       "      <td>1</td>\n",
       "      <td>Cumings, Mrs. John Bradley (Florence Briggs Th...</td>\n",
       "      <td>female</td>\n",
       "      <td>38.0</td>\n",
       "      <td>1</td>\n",
       "      <td>0</td>\n",
       "      <td>PC 17599</td>\n",
       "      <td>71.2833</td>\n",
       "      <td>C85</td>\n",
       "      <td>C</td>\n",
       "    </tr>\n",
       "    <tr>\n",
       "      <th>2</th>\n",
       "      <td>3</td>\n",
       "      <td>1</td>\n",
       "      <td>3</td>\n",
       "      <td>Heikkinen, Miss. Laina</td>\n",
       "      <td>female</td>\n",
       "      <td>26.0</td>\n",
       "      <td>0</td>\n",
       "      <td>0</td>\n",
       "      <td>STON/O2. 3101282</td>\n",
       "      <td>7.9250</td>\n",
       "      <td>NaN</td>\n",
       "      <td>S</td>\n",
       "    </tr>\n",
       "    <tr>\n",
       "      <th>3</th>\n",
       "      <td>4</td>\n",
       "      <td>1</td>\n",
       "      <td>1</td>\n",
       "      <td>Futrelle, Mrs. Jacques Heath (Lily May Peel)</td>\n",
       "      <td>female</td>\n",
       "      <td>35.0</td>\n",
       "      <td>1</td>\n",
       "      <td>0</td>\n",
       "      <td>113803</td>\n",
       "      <td>53.1000</td>\n",
       "      <td>C123</td>\n",
       "      <td>S</td>\n",
       "    </tr>\n",
       "    <tr>\n",
       "      <th>4</th>\n",
       "      <td>5</td>\n",
       "      <td>0</td>\n",
       "      <td>3</td>\n",
       "      <td>Allen, Mr. William Henry</td>\n",
       "      <td>male</td>\n",
       "      <td>35.0</td>\n",
       "      <td>0</td>\n",
       "      <td>0</td>\n",
       "      <td>373450</td>\n",
       "      <td>8.0500</td>\n",
       "      <td>NaN</td>\n",
       "      <td>S</td>\n",
       "    </tr>\n",
       "  </tbody>\n",
       "</table>\n",
       "</div>"
      ],
      "text/plain": [
       "   PassengerId  Survived  Pclass  \\\n",
       "0            1         0       3   \n",
       "1            2         1       1   \n",
       "2            3         1       3   \n",
       "3            4         1       1   \n",
       "4            5         0       3   \n",
       "\n",
       "                                                Name     Sex   Age  SibSp  \\\n",
       "0                            Braund, Mr. Owen Harris    male  22.0      1   \n",
       "1  Cumings, Mrs. John Bradley (Florence Briggs Th...  female  38.0      1   \n",
       "2                             Heikkinen, Miss. Laina  female  26.0      0   \n",
       "3       Futrelle, Mrs. Jacques Heath (Lily May Peel)  female  35.0      1   \n",
       "4                           Allen, Mr. William Henry    male  35.0      0   \n",
       "\n",
       "   Parch            Ticket     Fare Cabin Embarked  \n",
       "0      0         A/5 21171   7.2500   NaN        S  \n",
       "1      0          PC 17599  71.2833   C85        C  \n",
       "2      0  STON/O2. 3101282   7.9250   NaN        S  \n",
       "3      0            113803  53.1000  C123        S  \n",
       "4      0            373450   8.0500   NaN        S  "
      ]
     },
     "execution_count": 2,
     "metadata": {},
     "output_type": "execute_result"
    }
   ],
   "source": [
    "titanic_df = pd.read_csv('titanic.csv')\n",
    "titanic_df.head()"
   ]
  },
  {
   "cell_type": "markdown",
   "id": "bde3eaf1",
   "metadata": {},
   "source": [
    "### Q.1- How many rows and columns are there in the dataset?"
   ]
  },
  {
   "cell_type": "code",
   "execution_count": 3,
   "id": "9e5d2c77",
   "metadata": {},
   "outputs": [
    {
     "data": {
      "text/plain": [
       "(891, 12)"
      ]
     },
     "execution_count": 3,
     "metadata": {},
     "output_type": "execute_result"
    }
   ],
   "source": [
    "titanic_df.shape\n",
    "#titanic_df.descibe --we can also use describe finction to describe the data."
   ]
  },
  {
   "cell_type": "markdown",
   "id": "f37bc2d5",
   "metadata": {},
   "source": [
    "**Ans - [891 rows x 12 columns]**"
   ]
  },
  {
   "cell_type": "markdown",
   "id": "30004a2c",
   "metadata": {},
   "source": [
    "### Q.2- In which class category more number of women’s died in terms of percentage of from that class?"
   ]
  },
  {
   "cell_type": "code",
   "execution_count": 4,
   "id": "626779e2",
   "metadata": {},
   "outputs": [
    {
     "data": {
      "image/png": "[encoded data removed]",
      "text/plain": [
       "<Figure size 640x480 with 1 Axes>"
      ]
     },
     "metadata": {},
     "output_type": "display_data"
    }
   ],
   "source": [
    "class_sex_group = titanic_df.groupby(['Pclass', 'Sex'])\n",
    "women_by_class = class_sex_group['Survived'].count().loc[:, 'female']\n",
    "dead_women_by_class = women_by_class - class_sex_group['Survived'].sum().loc[:, 'female']\n",
    "women_dead_percent_by_class = (dead_women_by_class/women_by_class)*100\n",
    "\n",
    "fig, ax = plt.subplots()\n",
    "ax.bar(women_dead_percent_by_class.index.get_level_values('Pclass'), women_dead_percent_by_class.values,color='Blue')\n",
    "ax.set_xlabel('Class')\n",
    "ax.set_ylabel('Percentage of dead women')\n",
    "ax.set_title('Percentage of dead women in each class')\n",
    "ax.set_xticks([1, 2, 3])\n",
    "ax.set_xticklabels(['1st Class', '2nd Class', '3rd Class'])\n",
    "plt.show()"
   ]
  },
  {
   "cell_type": "markdown",
   "id": "8c8bd25f",
   "metadata": {},
   "source": [
    "### Q.3- Was the oldest passenger a male or a female?"
   ]
  },
  {
   "cell_type": "code",
   "execution_count": 5,
   "id": "2a23d5d2",
   "metadata": {},
   "outputs": [
    {
     "name": "stdout",
     "output_type": "stream",
     "text": [
      "The oldest passenger was a male named barkworth, mr. algernon henry wilson and was 80.0 years old.\n"
     ]
    }
   ],
   "source": [
    "oldest_passenger = titanic_df.sort_values('Age', ascending=False).iloc[0]\n",
    "print(\"The oldest passenger was a\", oldest_passenger['Sex'].lower(),\"named\",oldest_passenger['Name'].lower() ,\"and was\", oldest_passenger['Age'], \"years old.\")"
   ]
  },
  {
   "cell_type": "markdown",
   "id": "b9b8ae85",
   "metadata": {},
   "source": [
    "**The oldest passenger was a male named barkworth, mr. algernon henry wilson and was 80.0 years old.**"
   ]
  },
  {
   "cell_type": "markdown",
   "id": "01f4e296",
   "metadata": {},
   "source": [
    "### Q.4- What is the name of the oldest survived female passenger?"
   ]
  },
  {
   "cell_type": "code",
   "execution_count": 6,
   "id": "929632b1",
   "metadata": {},
   "outputs": [
    {
     "name": "stdout",
     "output_type": "stream",
     "text": [
      "The name of the oldest survived female passenger is: Turkula, Mrs. (Hedwig) and her age is  63.0\n"
     ]
    }
   ],
   "source": [
    "oldest_survived_female = titanic_df[(titanic_df['Sex'] == 'female') & (titanic_df['Survived'] == 1)].sort_values('Age', ascending=False).iloc[0]\n",
    "print(\"The name of the oldest survived female passenger is:\", oldest_survived_female['Name'],\"and her age is \",oldest_survived_female['Age'])\n"
   ]
  },
  {
   "cell_type": "markdown",
   "id": "5d2a9a52",
   "metadata": {},
   "source": [
    "**The name of the oldest survived female passenger is: Turkula, Mrs. (Hedwig) and her age is  63.0.**"
   ]
  },
  {
   "cell_type": "markdown",
   "id": "ab009f3e",
   "metadata": {},
   "source": [
    "### Q.5- What are the details of the youngest passenger who did not survive?"
   ]
  },
  {
   "cell_type": "code",
   "execution_count": 7,
   "id": "e1c84355",
   "metadata": {},
   "outputs": [
    {
     "name": "stdout",
     "output_type": "stream",
     "text": [
      "The youngest passenger who did not survive was Panula, Master. Eino Viljami , aged 1.0 years, He had a ticket with number- 3101295 and his cabin number was- nan . He belonged to class  3 . His Passenger ID was 165 .\n"
     ]
    }
   ],
   "source": [
    "youngest_not_survived_passenger = titanic_df[(titanic_df['Survived'] == 0)].sort_values('Age', ascending=True).iloc[0]\n",
    "print(\"The youngest passenger who did not survive was\",youngest_not_survived_passenger['Name'],\n",
    "      ', aged',youngest_not_survived_passenger['Age'],'years,','He had a ticket with number-',\n",
    "      youngest_not_survived_passenger['Ticket'], 'and his cabin number was-',\n",
    "      youngest_not_survived_passenger['Cabin'], \". He belonged to class \",\n",
    "      youngest_not_survived_passenger['Pclass']\n",
    "      ,'. His Passenger ID was',youngest_not_survived_passenger['PassengerId'],'.')"
   ]
  },
  {
   "cell_type": "markdown",
   "id": "37d9f906",
   "metadata": {},
   "source": [
    "**The youngest passenger who did not survive was Panula, Master. Eino Viljami ,aged 1.0 years, He had a ticket with number- 3101295 and his cabin number was- nan. He belonged to class 3. His Passenger ID was 165.**"
   ]
  },
  {
   "cell_type": "markdown",
   "id": "3d3632ab",
   "metadata": {},
   "source": [
    "### Q.6- What percentage of passengers overall survived the disaster?"
   ]
  },
  {
   "cell_type": "code",
   "execution_count": 8,
   "id": "c46f56de",
   "metadata": {
    "scrolled": true
   },
   "outputs": [
    {
     "name": "stdout",
     "output_type": "stream",
     "text": [
      "Percentage of passengers who survived: 38.38%\n"
     ]
    }
   ],
   "source": [
    "survival_counts = titanic_df['Survived'].value_counts()\n",
    "survival_percent = survival_counts[1] / titanic_df.shape[0] * 100\n",
    "print(\"Percentage of passengers who survived: {:.2f}%\".format(survival_percent))\n",
    "                                       "
   ]
  },
  {
   "cell_type": "markdown",
   "id": "da7a043e",
   "metadata": {},
   "source": [
    "***Percentage of passengers who survived: 38.38%***"
   ]
  },
  {
   "cell_type": "markdown",
   "id": "e2afc493",
   "metadata": {},
   "source": [
    "### Q.7- Which sex of passengers were more on board?"
   ]
  },
  {
   "cell_type": "code",
   "execution_count": 9,
   "id": "0ee589d4",
   "metadata": {},
   "outputs": [
    {
     "data": {
      "image/png": "[encoded data removed]",
      "text/plain": [
       "<Figure size 640x480 with 1 Axes>"
      ]
     },
     "metadata": {},
     "output_type": "display_data"
    }
   ],
   "source": [
    "sns.countplot(x='Sex', data=titanic_df)\n",
    "counts = titanic_df['Sex'].value_counts()\n",
    "for i, count in enumerate(counts):\n",
    "    plt.annotate(str(count), xy=(i, count), ha='center', fontsize=12, fontweight='bold')\n",
    "\n",
    "plt.title('Passenger Count by Sex')\n",
    "plt.xlabel('Sex')\n",
    "plt.ylabel('Count')\n",
    "\n",
    "plt.show()"
   ]
  },
  {
   "cell_type": "markdown",
   "id": "2e0e3e2d",
   "metadata": {},
   "source": [
    "### Q.8- Which passenger had the least average age by ticket class?"
   ]
  },
  {
   "cell_type": "code",
   "execution_count": 10,
   "id": "04db9635",
   "metadata": {},
   "outputs": [
    {
     "name": "stdout",
     "output_type": "stream",
     "text": [
      "The passenger with the least average age by ticket class was in class 3\n"
     ]
    }
   ],
   "source": [
    "class_mean_age = titanic_df.groupby('Pclass')['Age'].mean()\n",
    "\n",
    "class_with_lowest_age = class_mean_age.idxmin()\n",
    "\n",
    "print(\"The passenger with the least average age by ticket class was in class\", class_with_lowest_age)"
   ]
  },
  {
   "cell_type": "markdown",
   "id": "bad30f88",
   "metadata": {},
   "source": [
    "***The passenger with the least average age by ticket class was in class 3***"
   ]
  },
  {
   "cell_type": "markdown",
   "id": "9d22b79c",
   "metadata": {},
   "source": [
    "### Q.9- Which class had the highest fare?"
   ]
  },
  {
   "cell_type": "code",
   "execution_count": 11,
   "id": "c54f8dbc",
   "metadata": {},
   "outputs": [
    {
     "name": "stdout",
     "output_type": "stream",
     "text": [
      "Class with the highest fare: 1\n"
     ]
    }
   ],
   "source": [
    "class_fare = titanic_df.groupby('Pclass')['Fare'].max()\n",
    "print(\"Class with the highest fare:\", class_fare.idxmax())"
   ]
  },
  {
   "cell_type": "markdown",
   "id": "7b5815c4",
   "metadata": {},
   "source": [
    "***Class with the highest fare: 1***"
   ]
  },
  {
   "cell_type": "markdown",
   "id": "947223af",
   "metadata": {},
   "source": [
    "### Q.10- Which class had the highest number of passengers?"
   ]
  },
  {
   "cell_type": "code",
   "execution_count": 12,
   "id": "e06e91a4",
   "metadata": {},
   "outputs": [
    {
     "data": {
      "image/png": "[encoded data removed]",
      "text/plain": [
       "<Figure size 1200x800 with 1 Axes>"
      ]
     },
     "metadata": {},
     "output_type": "display_data"
    }
   ],
   "source": [
    "no_of_passenger = titanic_df.groupby('Pclass')['Ticket'].count()\n",
    "fig, ax = plt.subplots(figsize=(12, 8))\n",
    "ax.pie(no_of_passenger.values, labels=['1st Class', '2nd Class', '3rd Class'], autopct='%1.2f%%')\n",
    "ax.set_title('Number of passengers in each class')\n",
    "ax.legend(title=\"Class\", loc=\"upper right\")\n",
    "plt.show()"
   ]
  },
  {
   "cell_type": "markdown",
   "id": "7c36465c",
   "metadata": {},
   "source": [
    "#### In this case study, we analyzed the Titanic dataset using Python's pandas library and various visualization tools. We explored different aspects of the dataset such as the survival rates, ticket class, and fare. Through this analysis, we were able to gain insights into the factors that influenced survival and the overall characteristics of the passengers on board the Titanic. Overall, this case study provides a practical example of how data analysis can be applied to real-world datasets to uncover valuable insights.\n",
    "\n",
    "# Thank You"
   ]
  }
 ],
 "metadata": {
  "kernelspec": {
   "display_name": "Python 3 (ipykernel)",
   "language": "python",
   "name": "python3"
  },
  "language_info": {
   "codemirror_mode": {
    "name": "ipython",
    "version": 3
   },
   "file_extension": ".py",
   "mimetype": "text/x-python",
   "name": "python",
   "nbconvert_exporter": "python",
   "pygments_lexer": "ipython3",
   "version": "3.11.2"
  }
 },
 "nbformat": 4,
 "nbformat_minor": 5
}
